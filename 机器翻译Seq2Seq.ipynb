{
 "cells": [
  {
   "cell_type": "markdown",
   "metadata": {},
   "source": [
    "# 导入第三方库"
   ]
  },
  {
   "cell_type": "code",
   "execution_count": 1,
   "metadata": {
    "collapsed": true
   },
   "outputs": [],
   "source": [
    "import pandas as pd\n",
    "import numpy as np\n",
    "import os\n",
    "# Imports Cell\n",
    "from __future__ import print_function\n",
    "#导入模型\n",
    "from tensorflow.keras.models import Model\n",
    "#导入层\n",
    "from tensorflow.keras.layers import Input, LSTM, Dense\n",
    "#导入数组处理包\n",
    "import numpy as np"
   ]
  },
  {
   "cell_type": "markdown",
   "metadata": {},
   "source": [
    "## 选择使用问答机器人/机器翻译/文本摘要/的案例进行学习"
   ]
  },
  {
   "cell_type": "markdown",
   "metadata": {},
   "source": [
    "seq2seq模型的关键点是vocab词典，其中问答机器人输入输出共一个词典，机器翻译输入输出各自一个词典，文本摘要由于输出是由输入得到，所以以输入词典为主"
   ]
  },
  {
   "cell_type": "markdown",
   "metadata": {},
   "source": [
    "# 机器翻译"
   ]
  },
  {
   "cell_type": "code",
   "execution_count": 2,
   "metadata": {
    "collapsed": true
   },
   "outputs": [],
   "source": [
    "## 设置初始参数值\n",
    "#送入批次\n",
    "batch_size = 320  # Batch size for training. 训练批次大小\n",
    "#训练次数\n",
    "epochs = 1000  # Number of epochs to train for. 训练多少回\n",
    "#这是神经元\n",
    "latent_dim = 256   # Latent dimensionality of the encoding space. 隐藏神经元数量\n"
   ]
  },
  {
   "cell_type": "code",
   "execution_count": 3,
   "metadata": {
    "collapsed": true
   },
   "outputs": [],
   "source": [
    "translation_data=pd.read_csv('./data/translation/translation.csv')"
   ]
  },
  {
   "cell_type": "code",
   "execution_count": 4,
   "metadata": {},
   "outputs": [
    {
     "data": {
      "text/html": [
       "<div>\n",
       "<style scoped>\n",
       "    .dataframe tbody tr th:only-of-type {\n",
       "        vertical-align: middle;\n",
       "    }\n",
       "\n",
       "    .dataframe tbody tr th {\n",
       "        vertical-align: top;\n",
       "    }\n",
       "\n",
       "    .dataframe thead th {\n",
       "        text-align: right;\n",
       "    }\n",
       "</style>\n",
       "<table border=\"1\" class=\"dataframe\">\n",
       "  <thead>\n",
       "    <tr style=\"text-align: right;\">\n",
       "      <th></th>\n",
       "      <th>Unnamed: 0</th>\n",
       "      <th>input_texts</th>\n",
       "      <th>target_texts</th>\n",
       "    </tr>\n",
       "  </thead>\n",
       "  <tbody>\n",
       "    <tr>\n",
       "      <th>0</th>\n",
       "      <td>0</td>\n",
       "      <td>Go.</td>\n",
       "      <td>Πάμε.</td>\n",
       "    </tr>\n",
       "    <tr>\n",
       "      <th>1</th>\n",
       "      <td>1</td>\n",
       "      <td>Run!</td>\n",
       "      <td>Τρέξε!</td>\n",
       "    </tr>\n",
       "    <tr>\n",
       "      <th>2</th>\n",
       "      <td>2</td>\n",
       "      <td>Run!</td>\n",
       "      <td>Τρέξτε!</td>\n",
       "    </tr>\n",
       "    <tr>\n",
       "      <th>3</th>\n",
       "      <td>3</td>\n",
       "      <td>Who?</td>\n",
       "      <td>Ποιος;</td>\n",
       "    </tr>\n",
       "    <tr>\n",
       "      <th>4</th>\n",
       "      <td>4</td>\n",
       "      <td>Wow!</td>\n",
       "      <td>Ουάου!</td>\n",
       "    </tr>\n",
       "  </tbody>\n",
       "</table>\n",
       "</div>"
      ],
      "text/plain": [
       "   Unnamed: 0 input_texts target_texts\n",
       "0           0         Go.        Πάμε.\n",
       "1           1        Run!       Τρέξε!\n",
       "2           2        Run!      Τρέξτε!\n",
       "3           3        Who?       Ποιος;\n",
       "4           4        Wow!       Ουάου!"
      ]
     },
     "execution_count": 4,
     "metadata": {},
     "output_type": "execute_result"
    }
   ],
   "source": [
    "translation_data.head()"
   ]
  },
  {
   "cell_type": "markdown",
   "metadata": {},
   "source": [
    "## 获取问答系统的字典"
   ]
  },
  {
   "cell_type": "code",
   "execution_count": 5,
   "metadata": {
    "collapsed": true
   },
   "outputs": [],
   "source": [
    "input_characters = set()\n",
    "\n",
    "target_characters = set()"
   ]
  },
  {
   "cell_type": "code",
   "execution_count": 6,
   "metadata": {
    "collapsed": true
   },
   "outputs": [],
   "source": [
    "for i in range(len(translation_data)):\n",
    "    for char in translation_data.input_texts[i]:\n",
    "        if char not in input_characters:\n",
    "            input_characters.add(char)\n",
    "    for char in translation_data.target_texts[i]:\n",
    "        if char not in target_characters:\n",
    "            target_characters.add(char)\n",
    "#     print(i)"
   ]
  },
  {
   "cell_type": "code",
   "execution_count": 7,
   "metadata": {
    "collapsed": true
   },
   "outputs": [],
   "source": [
    "target_characters.add('\\t')\n",
    "target_characters.add('\\n')"
   ]
  },
  {
   "cell_type": "code",
   "execution_count": 8,
   "metadata": {},
   "outputs": [
    {
     "data": {
      "text/plain": [
       "110"
      ]
     },
     "execution_count": 8,
     "metadata": {},
     "output_type": "execute_result"
    }
   ],
   "source": [
    "len(target_characters)"
   ]
  },
  {
   "cell_type": "markdown",
   "metadata": {},
   "source": [
    "# 获取数据集"
   ]
  },
  {
   "cell_type": "code",
   "execution_count": 9,
   "metadata": {
    "collapsed": true
   },
   "outputs": [],
   "source": [
    "input_texts=translation_data.input_texts.values\n",
    "target_texts=['\\t'+i+'\\n' for i in translation_data.target_texts.values]"
   ]
  },
  {
   "cell_type": "code",
   "execution_count": 10,
   "metadata": {
    "collapsed": true
   },
   "outputs": [],
   "source": [
    "#字典编译\n",
    "input_characters = sorted(list(input_characters))\n",
    "\n",
    "target_characters = sorted(list(target_characters))\n",
    "\n",
    "num_encoder_tokens = len(input_characters)\n",
    "\n",
    "num_decoder_tokens = len(target_characters)\n",
    "\n",
    "max_encoder_seq_length = max([len(txt) for txt in input_texts])\n",
    "\n",
    "max_decoder_seq_length = max([len(txt) for txt in target_texts])"
   ]
  },
  {
   "cell_type": "code",
   "execution_count": 11,
   "metadata": {
    "collapsed": true
   },
   "outputs": [],
   "source": [
    "# 字符与序号对应的字典\n",
    "input_token_index = dict((c, i) for i, c in enumerate(input_characters))\n",
    "target_token_index  = dict((c, i) for i, c in enumerate(target_characters))\n",
    "# #编译字典\n",
    "# input_token_index = dict(\n",
    "#     [(char, i) for i, char in enumerate(input_characters)])\n",
    "# #字典编译\n",
    "# target_token_index = dict(\n",
    "#     [(char, i) for i, char in enumerate(target_characters)])"
   ]
  },
  {
   "cell_type": "code",
   "execution_count": 12,
   "metadata": {},
   "outputs": [
    {
     "data": {
      "text/plain": [
       "{' ': 0,\n",
       " '!': 1,\n",
       " '%': 2,\n",
       " \"'\": 3,\n",
       " ',': 4,\n",
       " '-': 5,\n",
       " '.': 6,\n",
       " '0': 7,\n",
       " '1': 8,\n",
       " '2': 9,\n",
       " '3': 10,\n",
       " '4': 11,\n",
       " '5': 12,\n",
       " '6': 13,\n",
       " '7': 14,\n",
       " '8': 15,\n",
       " '9': 16,\n",
       " ':': 17,\n",
       " '?': 18,\n",
       " 'A': 19,\n",
       " 'B': 20,\n",
       " 'C': 21,\n",
       " 'D': 22,\n",
       " 'E': 23,\n",
       " 'F': 24,\n",
       " 'G': 25,\n",
       " 'H': 26,\n",
       " 'I': 27,\n",
       " 'J': 28,\n",
       " 'K': 29,\n",
       " 'L': 30,\n",
       " 'M': 31,\n",
       " 'N': 32,\n",
       " 'O': 33,\n",
       " 'P': 34,\n",
       " 'R': 35,\n",
       " 'S': 36,\n",
       " 'T': 37,\n",
       " 'U': 38,\n",
       " 'V': 39,\n",
       " 'W': 40,\n",
       " 'Y': 41,\n",
       " 'a': 42,\n",
       " 'b': 43,\n",
       " 'c': 44,\n",
       " 'd': 45,\n",
       " 'e': 46,\n",
       " 'f': 47,\n",
       " 'g': 48,\n",
       " 'h': 49,\n",
       " 'i': 50,\n",
       " 'j': 51,\n",
       " 'k': 52,\n",
       " 'l': 53,\n",
       " 'm': 54,\n",
       " 'n': 55,\n",
       " 'o': 56,\n",
       " 'p': 57,\n",
       " 'q': 58,\n",
       " 'r': 59,\n",
       " 's': 60,\n",
       " 't': 61,\n",
       " 'u': 62,\n",
       " 'v': 63,\n",
       " 'w': 64,\n",
       " 'x': 65,\n",
       " 'y': 66,\n",
       " 'z': 67,\n",
       " '€': 68}"
      ]
     },
     "execution_count": 12,
     "metadata": {},
     "output_type": "execute_result"
    }
   ],
   "source": [
    "input_token_index"
   ]
  },
  {
   "cell_type": "code",
   "execution_count": 13,
   "metadata": {},
   "outputs": [
    {
     "data": {
      "text/plain": [
       "110"
      ]
     },
     "execution_count": 13,
     "metadata": {},
     "output_type": "execute_result"
    }
   ],
   "source": [
    "len(target_token_index)"
   ]
  },
  {
   "cell_type": "code",
   "execution_count": 14,
   "metadata": {},
   "outputs": [
    {
     "name": "stdout",
     "output_type": "stream",
     "text": [
      "Number of samples: 10000\n",
      "Number of unique input tokens: 69\n",
      "Number of unique output tokens: 110\n",
      "Max sequence length for inputs: 25\n",
      "Max sequence length for outputs: 49\n"
     ]
    }
   ],
   "source": [
    "print('Number of samples:', len(input_texts))\n",
    "print('Number of unique input tokens:', num_encoder_tokens)\n",
    "print('Number of unique output tokens:', num_decoder_tokens)\n",
    "print('Max sequence length for inputs:', max_encoder_seq_length)\n",
    "print('Max sequence length for outputs:', max_decoder_seq_length)"
   ]
  },
  {
   "cell_type": "markdown",
   "metadata": {},
   "source": [
    "## 得到训练数据"
   ]
  },
  {
   "cell_type": "code",
   "execution_count": 15,
   "metadata": {
    "collapsed": true
   },
   "outputs": [],
   "source": [
    "# Initialize Model Arrays\n",
    "# 分别是输入的数据集数量，编码的文本句子总长度，编码单词有多少个\n",
    "encoder_input_data = np.zeros(\n",
    "    (len(input_texts), max_encoder_seq_length, num_encoder_tokens),\n",
    "    dtype='float32')\n",
    "\n",
    "decoder_input_data = np.zeros(\n",
    "    (len(input_texts), max_decoder_seq_length, num_decoder_tokens),\n",
    "    dtype='float32')\n",
    "\n",
    "decoder_target_data = np.zeros(\n",
    "    (len(input_texts), max_decoder_seq_length, num_decoder_tokens),\n",
    "    dtype='float32')"
   ]
  },
  {
   "cell_type": "code",
   "execution_count": 16,
   "metadata": {
    "collapsed": true
   },
   "outputs": [],
   "source": [
    "import pickle\n",
    "import operator"
   ]
  },
  {
   "cell_type": "code",
   "execution_count": 17,
   "metadata": {
    "collapsed": true
   },
   "outputs": [],
   "source": [
    "import numpy as np\n",
    "import pickle\n",
    "import operator\n",
    "path = 'data/middle_data/translation/'\n",
    "with open(path + 'encoder_input_data.pkl', 'wb') as f:\n",
    "    pickle.dump(encoder_input_data, f, pickle.HIGHEST_PROTOCOL)\n",
    "with open(path + 'decoder_input_data.pkl', 'wb') as f:\n",
    "    pickle.dump(decoder_input_data, f, pickle.HIGHEST_PROTOCOL)\n",
    "with open(path + 'decoder_target_data.pkl', 'wb') as f:\n",
    "    pickle.dump(decoder_target_data, f, pickle.HIGHEST_PROTOCOL)\n",
    "with open(path + 'input_token_index.pkl', 'wb') as f:\n",
    "    pickle.dump(input_token_index, f, pickle.HIGHEST_PROTOCOL)\n",
    "with open(path + 'target_token_index.pkl', 'wb') as f:\n",
    "    pickle.dump(target_token_index, f, pickle.HIGHEST_PROTOCOL)"
   ]
  },
  {
   "cell_type": "code",
   "execution_count": 18,
   "metadata": {
    "collapsed": true
   },
   "outputs": [],
   "source": [
    "## 测试是否能够导入"
   ]
  },
  {
   "cell_type": "code",
   "execution_count": 33,
   "metadata": {
    "collapsed": true
   },
   "outputs": [],
   "source": [
    "del encoder_input_data"
   ]
  },
  {
   "cell_type": "code",
   "execution_count": 34,
   "metadata": {
    "collapsed": true
   },
   "outputs": [],
   "source": [
    "with open(path + 'encoder_input_data.pkl', 'rb') as f:\n",
    "    encoder_input_data=pickle.load(f)"
   ]
  },
  {
   "cell_type": "code",
   "execution_count": 36,
   "metadata": {
    "collapsed": true
   },
   "outputs": [],
   "source": [
    "# encoder_input_data"
   ]
  },
  {
   "cell_type": "code",
   "execution_count": 16,
   "metadata": {},
   "outputs": [
    {
     "name": "stdout",
     "output_type": "stream",
     "text": [
      "encoder_input_data: (10000, 25, 69)\n",
      "decoder_input_data: (10000, 49, 110)\n",
      "decoder_target_data: (10000, 49, 110)\n"
     ]
    }
   ],
   "source": [
    "for i, (input_text, target_text) in enumerate(zip(input_texts, target_texts)):\n",
    "    for t, char in enumerate(input_text):\n",
    "        encoder_input_data[i, t, input_token_index[char]] = 1.\n",
    "    encoder_input_data[i, t + 1:, input_token_index[' ']] = 1.\n",
    "    for t, char in enumerate(target_text):\n",
    "        # decoder_target_data is ahead of decoder_input_data by one timestep\n",
    "        decoder_input_data[i, t, target_token_index[char]] = 1.\n",
    "        if t > 0:\n",
    "            # decoder_target_data will be ahead by one timestep\n",
    "            # and will not include the start character.\n",
    "            decoder_target_data[i, t - 1, target_token_index[char]] = 1.\n",
    "    decoder_input_data[i, t + 1:, target_token_index[' ']] = 1.\n",
    "    decoder_target_data[i, t:, target_token_index[' ']] = 1.\n",
    "print('encoder_input_data:',encoder_input_data.shape)\n",
    "print('decoder_input_data:',decoder_input_data.shape)\n",
    "print('decoder_target_data:',decoder_target_data.shape)"
   ]
  },
  {
   "cell_type": "markdown",
   "metadata": {},
   "source": [
    "# 模型搭建"
   ]
  },
  {
   "cell_type": "code",
   "execution_count": 17,
   "metadata": {
    "collapsed": true
   },
   "outputs": [],
   "source": [
    "import tensorflow.keras as K\n",
    "import tensorflow as tf\n",
    "\n",
    "import matplotlib.pyplot as plt\n",
    "\n",
    "import numpy as np\n",
    "\n",
    "import math\n",
    "\n",
    "import os"
   ]
  },
  {
   "cell_type": "code",
   "execution_count": 23,
   "metadata": {
    "collapsed": true
   },
   "outputs": [],
   "source": [
    "# # ==================编码器=====================\n",
    "# # Define an input sequence and process it.\n",
    "# # 输入一句话\n",
    "# encoder_inputs = K.Input(shape=(None, num_encoder_tokens))\n",
    "# # return_state返回状态，用于状态保持\n",
    "# encoder = K.layers.LSTM(latent_dim, return_sequences=True,\n",
    "#                         return_state=True, activation=K.activations.tanh)\n",
    "# encoder2 = K.layers.LSTM(latent_dim, return_sequences=False,\n",
    "#                          return_state=True, activation=K.activations.tanh)\n",
    "# encoder_outputs, state_h, state_c = encoder(encoder_inputs)\n",
    "# encoder_outputs2, state_h2, state_c2 = encoder2(encoder_outputs)\n",
    "# # We discard `encoder_outputs` and only keep the states.\n",
    "# encoder_states = [state_h, state_c]\n",
    "# encoder_states2 = [state_h2, state_c2]\n",
    "# # ==================编码器 end=====================`"
   ]
  },
  {
   "cell_type": "code",
   "execution_count": 18,
   "metadata": {
    "collapsed": true
   },
   "outputs": [],
   "source": [
    "# Define an input sequence and process it.\n",
    "encoder_inputs = Input(shape=(None, num_encoder_tokens))\n",
    "encoder = LSTM(latent_dim, return_state=True)\n",
    "encoder_outputs, state_h, state_c = encoder(encoder_inputs)\n",
    "# We discard `encoder_outputs` and only keep the states.\n",
    "encoder_states = [state_h, state_c]"
   ]
  },
  {
   "cell_type": "code",
   "execution_count": 41,
   "metadata": {
    "collapsed": true
   },
   "outputs": [],
   "source": [
    "# # ==================解码器=====================\n",
    "# # Set up the decoder, using `encoder_states` as initial state.\n",
    "# # 预测正确答案作为输入\n",
    "# decoder_inputs = K.Input(shape=(None, num_decoder_tokens))\n",
    "# # We set up our decoder to return full output sequences,\n",
    "# # and to return internal states as well. We don't use the\n",
    "# # return states in the training model, but we will use them in inference.\n",
    "# # return_sequences返回完整序列\n",
    "# decoder_lstm = K.layers.LSTM(\n",
    "#     latent_dim, return_sequences=True, return_state=True, activation=K.activations.tanh)\n",
    "# decoder_lstm2 = K.layers.LSTM(\n",
    "#     latent_dim, return_sequences=True, return_state=True, activation=K.activations.tanh)\n",
    "# decoder_outputs, _, _ = decoder_lstm(decoder_inputs,\n",
    "#                                      initial_state=encoder_states)\n",
    "# decoder_outputs2, _, _ = decoder_lstm2(decoder_outputs,\n",
    "#                                        initial_state=encoder_states2)\n",
    "# decoder_dense = K.layers.Dense(\n",
    "#     num_decoder_tokens, activation=K.activations.softmax)\n",
    "# # 输出值，真正答案\n",
    "# decoder_outputs = decoder_dense(decoder_outputs2)\n",
    "# # ==================解码器 end=====================\n",
    "# # 编码\t\t\t\t\t解码\n",
    "# # \\t\th\ti\t\\n\t\t\\t\t你\t好\t\\n\n",
    "# # LSTM\t\t\t\t\tLSTM\n",
    "# # \t\t\t\t\t    你\t好\t\\n\n",
    "# # Define the model that will turn\n",
    "# # `encoder_input_data` & `decoder_input_data` into `decoder_target_data`"
   ]
  },
  {
   "cell_type": "code",
   "execution_count": 19,
   "metadata": {
    "collapsed": true
   },
   "outputs": [],
   "source": [
    "# Set up the decoder, using `encoder_states` as initial state.\n",
    "decoder_inputs = Input(shape=(None, num_decoder_tokens))\n",
    "\n",
    "# We set up our decoder to return full output sequences,\n",
    "# and to return internal states as well. We don't use the\n",
    "# return states in the training model, but we will use them in inference.\n",
    "decoder_lstm = LSTM(latent_dim, return_sequences=True, return_state=True)\n",
    "decoder_outputs, _, _ = decoder_lstm(decoder_inputs,\n",
    "                                     initial_state=encoder_states)\n",
    "decoder_dense = Dense(num_decoder_tokens, activation='softmax')\n",
    "decoder_outputs = decoder_dense(decoder_outputs)"
   ]
  },
  {
   "cell_type": "code",
   "execution_count": 20,
   "metadata": {
    "collapsed": true
   },
   "outputs": [],
   "source": [
    "import tensorflow.keras as K"
   ]
  },
  {
   "cell_type": "code",
   "execution_count": 21,
   "metadata": {},
   "outputs": [
    {
     "name": "stdout",
     "output_type": "stream",
     "text": [
      "加载模型\n"
     ]
    }
   ],
   "source": [
    "# model = K.Model([encoder_inputs, decoder_inputs], decoder_outputs)\n",
    "# Define the model that will turn\n",
    "# `encoder_input_data` & `decoder_input_data` into `decoder_target_data`\n",
    "#编码器/解码器\n",
    "model = Model([encoder_inputs, decoder_inputs], decoder_outputs)\n",
    "\n",
    "if os.path.exists('./model/translation/s2s.h5'):\n",
    "    print('加载模型')\n",
    "    model.load_weights('./model/translation/s2s.h5')"
   ]
  },
  {
   "cell_type": "code",
   "execution_count": 22,
   "metadata": {},
   "outputs": [
    {
     "name": "stdout",
     "output_type": "stream",
     "text": [
      "Model: \"model\"\n",
      "__________________________________________________________________________________________________\n",
      "Layer (type)                    Output Shape         Param #     Connected to                     \n",
      "==================================================================================================\n",
      "input_1 (InputLayer)            [(None, None, 69)]   0                                            \n",
      "__________________________________________________________________________________________________\n",
      "input_2 (InputLayer)            [(None, None, 110)]  0                                            \n",
      "__________________________________________________________________________________________________\n",
      "lstm (LSTM)                     [(None, 256), (None, 333824      input_1[0][0]                    \n",
      "__________________________________________________________________________________________________\n",
      "lstm_1 (LSTM)                   [(None, None, 256),  375808      input_2[0][0]                    \n",
      "                                                                 lstm[0][1]                       \n",
      "                                                                 lstm[0][2]                       \n",
      "__________________________________________________________________________________________________\n",
      "dense (Dense)                   (None, None, 110)    28270       lstm_1[0][0]                     \n",
      "==================================================================================================\n",
      "Total params: 737,902\n",
      "Trainable params: 737,902\n",
      "Non-trainable params: 0\n",
      "__________________________________________________________________________________________________\n"
     ]
    }
   ],
   "source": [
    "model.summary()"
   ]
  },
  {
   "cell_type": "code",
   "execution_count": 24,
   "metadata": {},
   "outputs": [
    {
     "data": {
      "image/png": "[encoded data removed]",
      "text/plain": [
       "<IPython.core.display.Image object>"
      ]
     },
     "execution_count": 24,
     "metadata": {},
     "output_type": "execute_result"
    }
   ],
   "source": [
    "from tensorflow.keras.utils import plot_model\n",
    "plot_model(model, './img/translation/Seq2SeqForTranslation.png', show_shapes=True)"
   ]
  },
  {
   "cell_type": "code",
   "execution_count": 25,
   "metadata": {
    "collapsed": true
   },
   "outputs": [],
   "source": [
    "# Run training\n",
    "# 训练\n",
    "# encoder_input_data：输入要翻译的语句\n",
    "# decoder_input_data：输入解码器的结果\\t开头\n",
    "# decoder_target_data：真正的翻译结果\n",
    "model.compile(K.optimizers.RMSprop(),\n",
    "              loss=[K.losses.categorical_crossentropy],\n",
    "              metrics=[K.metrics.categorical_crossentropy])"
   ]
  },
  {
   "cell_type": "code",
   "execution_count": 26,
   "metadata": {
    "collapsed": true
   },
   "outputs": [],
   "source": [
    "import tensorflow.keras as k"
   ]
  },
  {
   "cell_type": "code",
   "execution_count": 27,
   "metadata": {
    "collapsed": true
   },
   "outputs": [],
   "source": [
    "import os\n",
    "import datetime\n",
    "\n",
    "# optimizer = tf.keras.optimizers.Adam(learning_rate=0.01)\n",
    "# model.compile(optimizer=optimizer,loss=MSPE(name = \"MSPE\"))\n",
    "\n",
    "stamp = datetime.datetime.now().strftime(\"%Y%m%d-%H%M%S\")\n",
    "logdir = os.path.join('data', 'autograph', stamp)\n",
    "\n",
    "## 在 Python3 下建议使用 pathlib 修正各操作系统的路径\n",
    "# from pathlib import Path\n",
    "# stamp = datetime.datetime.now().strftime(\"%Y%m%d-%H%M%S\")\n",
    "# logdir = str(Path('./data/autograph/' + stamp))\n",
    "\n",
    "tb_callback =k.callbacks.TensorBoard(logdir, histogram_freq=1)\n",
    "#如果loss在100个epoch后没有提升，学习率减半。\n",
    "lr_callback =k.callbacks.ReduceLROnPlateau(monitor=\"loss\",factor = 0.5, patience = 50)\n",
    "#当loss在200个epoch后没有提升，则提前终止训练。\n",
    "stop_callback =k.callbacks.EarlyStopping(monitor = \"loss\", patience= 100)\n",
    "\n",
    "# 在每个训练期之后保存模型\n",
    "save_dir = os.path.join(os.getcwd(), 'saved_models')\n",
    "filepath=\"model_{epoch:02d}-{val_acc:.2f}.hdf5\"\n",
    "# mc_callback=\n",
    "# tf.keras.callbacks.ModelCheckpoint(os.path.join(save_dir, filepath)\n",
    "#                                    , monitor='val_loss',\n",
    "#                                    verbose=0, save_best_only=False,\n",
    "#                                    save_weights_only=False,\n",
    "#                                    mode='auto', period=1)\n",
    "mc_callback=k.callbacks.ModelCheckpoint(filepath='/tmp/weights.hdf5',\n",
    "                            monitor='val_loss',\n",
    "                            verbose=1, save_best_only=True)\n",
    "# 把训练轮结果数据流到 csv 文件的回调函数。\n",
    "csv_callback=k.callbacks.CSVLogger('training.log')\n",
    "\n",
    "callbacks_list = [tb_callback,lr_callback,stop_callback,mc_callback,csv_callback]"
   ]
  },
  {
   "cell_type": "code",
   "execution_count": null,
   "metadata": {
    "collapsed": true
   },
   "outputs": [],
   "source": [
    "# model.fit([encoder_input_data, decoder_input_data], decoder_target_data,\n",
    "#           batch_size=batch_size,\n",
    "#           epochs=epochs,\n",
    "#           validation_split=0.2)\n",
    "history = model.fit([encoder_input_data, decoder_input_data], decoder_target_data,\n",
    "          batch_size=batch_size,\n",
    "          epochs=epochs,callbacks = callbacks_list)"
   ]
  },
  {
   "cell_type": "code",
   "execution_count": 28,
   "metadata": {
    "collapsed": true
   },
   "outputs": [],
   "source": [
    "%matplotlib inline\n",
    "%config InlineBackend.figure_format = 'svg'\n",
    "\n",
    "import matplotlib.pyplot as plt\n",
    "\n",
    "def plot_metric(history, metric):\n",
    "    train_metrics = history.history[metric]\n",
    "    val_metrics = history.history['val_'+metric]\n",
    "    epochs = range(1, len(train_metrics) + 1)\n",
    "    plt.plot(epochs, train_metrics, 'bo--')\n",
    "    plt.plot(epochs, val_metrics, 'ro-')\n",
    "    plt.title('Training and validation '+ metric)\n",
    "    plt.xlabel(\"Epochs\")\n",
    "    plt.ylabel(metric)\n",
    "    plt.legend([\"train_\"+metric, 'val_'+metric])\n",
    "    plt.show()"
   ]
  },
  {
   "cell_type": "code",
   "execution_count": 30,
   "metadata": {},
   "outputs": [],
   "source": [
    "# import pandas as pd \n",
    "# dfhistory = pd.DataFrame(history.history)\n",
    "# dfhistory.index = range(1,len(dfhistory) + 1)\n",
    "# dfhistory.index.name = 'epoch'\n",
    "\n",
    "# dfhistory"
   ]
  },
  {
   "cell_type": "code",
   "execution_count": null,
   "metadata": {
    "collapsed": true
   },
   "outputs": [],
   "source": [
    "# Save model\n",
    "model.save_weights('s2s.h5')"
   ]
  },
  {
   "cell_type": "markdown",
   "metadata": {},
   "source": [
    "# 解码器"
   ]
  },
  {
   "cell_type": "code",
   "execution_count": 32,
   "metadata": {},
   "outputs": [],
   "source": [
    "# # Next: inference mode (sampling). 下一步，推理模式（抽样），识别\n",
    "# # Here's the drill:\n",
    "# # 1) encode input and retrieve initial decoder state\n",
    "# # 2) run one step of decoder with this initial state\n",
    "# # and a \"start of sequence\" token as target.\n",
    "# # Output will be the next target token\n",
    "# # 3) Repeat with the current target token and current states\n",
    " \n",
    "# # Define sampling models\n",
    "# # 编码模型,encoder_states\n",
    "# encoder_model = K.Model(encoder_inputs, encoder_states + encoder_states2)\n",
    " \n",
    "# # 解码模型\n",
    "# # 状态输入\n",
    "# decoder_state_input_h = K.Input(shape=(latent_dim,))\n",
    "# decoder_state_input_c = K.Input(shape=(latent_dim,))\n",
    "# decoder_state_input_h2 = K.Input(shape=(latent_dim,))\n",
    "# decoder_state_input_c2 = K.Input(shape=(latent_dim,))\n",
    "# decoder_states_inputs = [decoder_state_input_h, decoder_state_input_c]\n",
    "# decoder_states_inputs2 = [decoder_state_input_h2, decoder_state_input_c2]\n",
    "# # 训练后的LSTM,\n",
    "# decoder_outputs, state_h, state_c = decoder_lstm(\n",
    "#     decoder_inputs, initial_state=decoder_states_inputs)\n",
    "# decoder_states = [state_h, state_c]\n",
    "# decoder_outputs2, state_h2, state_c2 = decoder_lstm2(\n",
    "#     decoder_outputs, initial_state=decoder_states_inputs2)\n",
    "# decoder_states2 = [state_h2, state_c2]\n",
    "# decoder_outputs = decoder_dense(decoder_outputs2)\n",
    "# # 输入[decoder_inputs, decoder_state_input_h, decoder_state_input_c]\n",
    "# # 输出[decoder_outputs, state_h, state_c]\n",
    "# decoder_model = K.Model(\n",
    "#     [decoder_inputs] + decoder_states_inputs + decoder_states_inputs2,\n",
    "#     [decoder_outputs] + decoder_states + decoder_states2)\n",
    " \n",
    " \n",
    "# def decode_sequence(input_seq):\n",
    "#     # Encode the input as state vectors.\n",
    "#     # 编码，抽象概念\n",
    "#     states_value = encoder_model.predict(input_seq)\n",
    " \n",
    "#     # Generate empty target sequence of length 1.\n",
    "#     target_seq = np.zeros((1, 1, num_decoder_tokens))\n",
    "#     # Populate the first character of target sequence with the start character.\n",
    "#     target_seq[0, 0, char_to_int['\\t']] = 1.\n",
    " \n",
    "#     # Sampling loop for a batch of sequences\n",
    "#     # (to simplify, here we assume a batch of size 1).\n",
    "#     stop_condition = False\n",
    "#     decoded_sentence = ''\n",
    "#     while not stop_condition:\n",
    "#         output_tokens, h, c, h2, c2 = decoder_model.predict(\n",
    "#             [target_seq] + states_value)\n",
    " \n",
    "#         # 对应字符下标，把预测出的字符拼成字符串\n",
    "#         # Sample a token\n",
    "#         sampled_token_index = np.argmax(output_tokens[0, -1, :])\n",
    "#         sampled_char = int_to_char[sampled_token_index]\n",
    "#         decoded_sentence += sampled_char\n",
    " \n",
    "#         # 句子结束\n",
    "#         # Exit condition: either hit max length\n",
    "#         # or find stop character.\n",
    "#         if (sampled_char == '\\n' or\n",
    "#                 len(decoded_sentence) > max_encoder_seq_length):\n",
    "#             stop_condition = True\n",
    " \n",
    "#         # Update the target sequence (of length 1).\n",
    "#         # 当前字符，传递到下一次预测\n",
    "#         target_seq = np.zeros((1, 1, num_decoder_tokens))\n",
    "#         target_seq[0, 0, sampled_token_index] = 1.\n",
    " \n",
    "#         # Update states\n",
    "#         # 当前状态，传递到下一次预测\n",
    "#         states_value = [h, c, h2, c2]\n",
    " \n",
    "#     return decoded_sentence\n"
   ]
  },
  {
   "cell_type": "code",
   "execution_count": 38,
   "metadata": {
    "collapsed": true
   },
   "outputs": [],
   "source": [
    "# Define sampling models\n",
    "# 第一个黑盒，编码器，给定encoder_inputs，得到encoder的状态\n",
    "encoder_model = Model(encoder_inputs, encoder_states)\n",
    "# 第二个黑盒，解码器\n",
    "# 解码器接受三个输入，两个是初始状态，一个是之前已经生成的文本\n",
    "decoder_state_input_h = Input(shape=(latent_dim,))\n",
    "decoder_state_input_c = Input(shape=(latent_dim,))\n",
    "decoder_states_inputs = [decoder_state_input_h, decoder_state_input_c]\n",
    "# 解码器产生三个输出，两个当前状态，一个是每个时刻的输出，其中最后一个时刻的输出可以用来计算下一个字\n",
    "decoder_outputs, state_h, state_c = decoder_lstm(\n",
    "    decoder_inputs, initial_state=decoder_states_inputs)\n",
    "decoder_states = [state_h, state_c]\n",
    "decoder_outputs = decoder_dense(decoder_outputs)\n",
    "decoder_model = Model(\n",
    "    [decoder_inputs] + decoder_states_inputs,\n",
    "    [decoder_outputs] + decoder_states)"
   ]
  },
  {
   "cell_type": "code",
   "execution_count": 41,
   "metadata": {
    "collapsed": true
   },
   "outputs": [],
   "source": [
    "# Reverse-lookup token index to decode sequences back to\n",
    "# something readable.\n",
    "reverse_input_char_index = dict(\n",
    "    (i, char) for char, i in input_token_index.items())\n",
    "reverse_target_char_index = dict(\n",
    "    (i, char) for char, i in target_token_index.items())"
   ]
  },
  {
   "cell_type": "code",
   "execution_count": 42,
   "metadata": {
    "collapsed": true
   },
   "outputs": [],
   "source": [
    "def decode_sequence(input_seq):\n",
    "    # Encode the input as state vectors.\n",
    "    # 先把上句输入编码器得到编码的中间向量，这个中间向量将是解码器的初始状态向量\n",
    "    states_value = encoder_model.predict(input_seq)\n",
    "\n",
    "    # Generate empty target sequence of length 1.\n",
    "    target_seq = np.zeros((1, 1, num_decoder_tokens))\n",
    "    # Populate the first character of target sequence with the start character.\n",
    "    # 初始的解码器输入是开始符'\\t'\n",
    "    target_seq[0, 0, target_token_index['\\t']] = 1.\n",
    "\n",
    "    # Sampling loop for a batch of sequences\n",
    "    # (to simplify, here we assume a batch of size 1).\n",
    "    stop_condition = False\n",
    "    decoded_sentence = ''\n",
    "    \n",
    "    # 迭代解码\n",
    "    while not stop_condition:\n",
    "        # 把当前的解码器输入和当前的解码器状态向量送进解码器\n",
    "        # 得到对下一个时刻的预测和新的解码器状态向量\n",
    "        output_tokens, h, c = decoder_model.predict(\n",
    "            [target_seq] + states_value)\n",
    "\n",
    "        # Sample a token\n",
    "        # 采样出概率最大的那个字作为下一个时刻的输入\n",
    "        sampled_token_index = np.argmax(output_tokens[0, -1, :])\n",
    "        sampled_char = reverse_target_char_index[sampled_token_index]\n",
    "        decoded_sentence += sampled_char\n",
    "\n",
    "        # Exit condition: either hit max length\n",
    "        # or find stop character.\n",
    "        # 如果采样到了结束符或者生成的句子长度超过了decoder_len，就停止生成\n",
    "        if (sampled_char == '\\n' or\n",
    "           len(decoded_sentence) > max_decoder_seq_length):\n",
    "            stop_condition = True\n",
    "\n",
    "        # Update the target sequence (of length 1).\n",
    "        # 否则我们更新下一个时刻的解码器输入和解码器状态向量\n",
    "        target_seq = np.zeros((1, 1, num_decoder_tokens))\n",
    "        target_seq[0, 0, sampled_token_index] = 1.\n",
    "\n",
    "        # Update states\n",
    "        states_value = [h, c]\n",
    "\n",
    "    return decoded_sentence"
   ]
  },
  {
   "cell_type": "code",
   "execution_count": 43,
   "metadata": {
    "collapsed": true
   },
   "outputs": [],
   "source": [
    "# 得到结果"
   ]
  },
  {
   "cell_type": "code",
   "execution_count": 46,
   "metadata": {},
   "outputs": [
    {
     "name": "stdout",
     "output_type": "stream",
     "text": [
      "-\n",
      "Input sentence: Go.\n",
      "Decoded sentence: Του αρέσουν.\n",
      "\n"
     ]
    }
   ],
   "source": [
    "for seq_index in range(1):\n",
    "    # Take one sequence (part of the training set)\n",
    "    # for trying out decoding.\n",
    "    input_seq = encoder_input_data[seq_index: seq_index + 1]\n",
    "    decoded_sentence = decode_sequence(input_seq)\n",
    "    print('-')\n",
    "    print('Input sentence:', input_texts[seq_index])\n",
    "    print('Decoded sentence:', decoded_sentence)"
   ]
  },
  {
   "cell_type": "code",
   "execution_count": null,
   "metadata": {
    "collapsed": true
   },
   "outputs": [],
   "source": []
  }
 ],
 "metadata": {
  "kernelspec": {
   "display_name": "Python 3",
   "language": "python",
   "name": "python3"
  },
  "language_info": {
   "codemirror_mode": {
    "name": "ipython",
    "version": 3
   },
   "file_extension": ".py",
   "mimetype": "text/x-python",
   "name": "python",
   "nbconvert_exporter": "python",
   "pygments_lexer": "ipython3",
   "version": "3.6.3"
  }
 },
 "nbformat": 4,
 "nbformat_minor": 2
}
